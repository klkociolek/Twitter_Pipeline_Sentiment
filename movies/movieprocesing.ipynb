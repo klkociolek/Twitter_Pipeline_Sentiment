{
 "cells": [
  {
   "cell_type": "code",
   "execution_count": 1,
   "metadata": {},
   "outputs": [],
   "source": [
    "import pandas as pd"
   ]
  },
  {
   "cell_type": "code",
   "execution_count": 2,
   "metadata": {},
   "outputs": [
    {
     "name": "stderr",
     "output_type": "stream",
     "text": [
      "C:\\Users\\User\\anaconda3\\lib\\site-packages\\IPython\\core\\interactiveshell.py:3063: DtypeWarning: Columns (4,5) have mixed types.Specify dtype option on import or set low_memory=False.\n",
      "  interactivity=interactivity, compiler=compiler, result=result)\n"
     ]
    }
   ],
   "source": [
    "rating = pd.read_csv(\"rating.tsv\", sep='\\t')\n",
    "title= pd.read_csv(\"title.tsv\", sep='\\t')"
   ]
  },
  {
   "cell_type": "code",
   "execution_count": 3,
   "metadata": {},
   "outputs": [],
   "source": [
    "title=title[title[\"titleType\"].str.contains(\"movie\")==True]\n",
    "title=title.drop(columns=['titleType', 'originalTitle','isAdult','endYear','runtimeMinutes','genres'])\n",
    "title=title[title[\"startYear\"].str.contains(\"2021\")==True]"
   ]
  },
  {
   "cell_type": "code",
   "execution_count": 4,
   "metadata": {},
   "outputs": [],
   "source": [
    "rating = rating.drop(rating[rating.numVotes < 20000].index)\n",
    "rating=rating.drop(columns=['numVotes'])"
   ]
  },
  {
   "cell_type": "code",
   "execution_count": 5,
   "metadata": {},
   "outputs": [],
   "source": [
    "movies=pd.merge(title, rating, on=[\"tconst\"])\n",
    "movies=movies.drop(columns=['tconst','startYear'])"
   ]
  },
  {
   "cell_type": "code",
   "execution_count": 6,
   "metadata": {},
   "outputs": [],
   "source": [
    "movies=movies.replace([' ','\\'','\\&','\\.'],'',regex=True)"
   ]
  },
  {
   "cell_type": "code",
   "execution_count": 7,
   "metadata": {},
   "outputs": [],
   "source": [
    "movies['primaryTitle'] = movies['primaryTitle'].str.lower()\n",
    "movies['primaryTitle'] = '#' + movies['primaryTitle'].astype(str)\n"
   ]
  },
  {
   "cell_type": "code",
   "execution_count": 8,
   "metadata": {},
   "outputs": [],
   "source": [
    "movies.loc[len(movies.index)] = ['#nomadland', 7.4]\n",
    "movies.loc[len(movies.index)] = ['#intheheights', 7.9]\n",
    "movies.loc[len(movies.index)] = ['#peterrabbit2', 6.2]\n",
    "movies.loc[len(movies.index)] = ['#aquietplace', 7.9]\n",
    "movies.loc[len(movies.index)] = ['#spirituntamed', 5.7]\n",
    "movies.loc[len(movies.index)] = ['#spiral', 5.3]\n",
    "movies.loc[len(movies.index)] = ['#thehousenextdoor', 5.4]\n",
    "movies.loc[len(movies.index)] = ['#dreamhorse', 6.8]\n",
    "movies.loc[len(movies.index)] = ['#thosewhowishmedead', 6.0]\n",
    "movies.loc[len(movies.index)] = ['#findingyou', 6.6]\n",
    "movies.loc[len(movies.index)] = ['#thehitman', 6.0]\n",
    "movies.loc[len(movies.index)] = ['#heretoday', 6.3]\n",
    "movies.loc[len(movies.index)] = ['#neworder', 6.4]\n",
    "movies.loc[len(movies.index)] = ['#themisfits', 4.3]\n",
    "movies.loc[len(movies.index)] = ['#anotherround', 7.8]\n",
    "movies.loc[len(movies.index)] = ['#theconjuring', 6.5]\n",
    "movies.loc[len(movies.index)] = ['#minari', 7.5]\n",
    "movies.loc[len(movies.index)] = ['#thedjinn', 4.7]\n",
    "movies.loc[len(movies.index)] = ['#profile', 6.8]\n"
   ]
  },
  {
   "cell_type": "code",
   "execution_count": 11,
   "metadata": {},
   "outputs": [],
   "source": [
    "movies.to_csv (r'movies.csv', index = False, header=True)"
   ]
  },
  {
   "cell_type": "code",
   "execution_count": 12,
   "metadata": {},
   "outputs": [],
   "source": [
    "movies=pd.read_csv(\"movies.csv\")\n"
   ]
  },
  {
   "cell_type": "code",
   "execution_count": 13,
   "metadata": {},
   "outputs": [],
   "source": [
    "titles=movies.loc[:,'primaryTitle']\n",
    "titles=titles.values"
   ]
  },
  {
   "cell_type": "code",
   "execution_count": 15,
   "metadata": {},
   "outputs": [
    {
     "data": {
      "text/plain": [
       "array(['#mortalkombat', '#tomclancyswithoutremorse', '#armyofthedead',\n",
       "       '#thelittlethings', '#thunderforce', '#outsidethewire', '#master',\n",
       "       '#radhe', '#thingsheardseen', '#wrathofman', '#drishyam2',\n",
       "       '#zacksnydersjusticeleague', '#malcolmmarie', '#tomandjerry',\n",
       "       '#seaspiracy', '#chaoswalking', '#thosewhowishmedead', '#cruella',\n",
       "       '#thedig', '#redemptionday', '#themauritanian', '#godzillavskong',\n",
       "       '#rayaandthelastdragon', '#thewomaninthewindow', '#oxygen',\n",
       "       '#thewhitetiger', '#coming2america', '#palmer', '#bosslevel',\n",
       "       '#nobody', '#themitchellsvsthemachines', '#cherry', '#stowaway',\n",
       "       '#judasandtheblackmessiah', '#nomadland', '#intheheights',\n",
       "       '#peterrabbit2', '#aquietplace', '#spirituntamed', '#spiral',\n",
       "       '#thehousenextdoor', '#dreamhorse', '#thosewhowishmedead',\n",
       "       '#findingyou', '#thehitman', '#heretoday', '#neworder',\n",
       "       '#themisfits', '#anotherround', '#theconjuring', '#minari',\n",
       "       '#thedjinn', '#profile'], dtype=object)"
      ]
     },
     "execution_count": 15,
     "metadata": {},
     "output_type": "execute_result"
    }
   ],
   "source": [
    "titles"
   ]
  },
  {
   "cell_type": "code",
   "execution_count": null,
   "metadata": {},
   "outputs": [],
   "source": []
  },
  {
   "cell_type": "code",
   "execution_count": null,
   "metadata": {},
   "outputs": [],
   "source": []
  },
  {
   "cell_type": "code",
   "execution_count": null,
   "metadata": {},
   "outputs": [],
   "source": []
  }
 ],
 "metadata": {
  "kernelspec": {
   "display_name": "Python 3",
   "language": "python",
   "name": "python3"
  },
  "language_info": {
   "codemirror_mode": {
    "name": "ipython",
    "version": 3
   },
   "file_extension": ".py",
   "mimetype": "text/x-python",
   "name": "python",
   "nbconvert_exporter": "python",
   "pygments_lexer": "ipython3",
   "version": "3.7.6"
  }
 },
 "nbformat": 4,
 "nbformat_minor": 4
}
